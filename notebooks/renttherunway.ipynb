{
 "cells": [
  {
   "cell_type": "markdown",
   "metadata": {},
   "source": [
    "# Atividade • Data Science\n",
    "<hr>"
   ]
  },
  {
   "cell_type": "markdown",
   "metadata": {},
   "source": [
    "## Data Discovery"
   ]
  },
  {
   "cell_type": "markdown",
   "metadata": {},
   "source": [
    "### Sumário"
   ]
  },
  {
   "cell_type": "markdown",
   "metadata": {},
   "source": [
    "<p> Número de clientes: 105,508\n",
    "\n",
    "Número de produtos: 5,850\n",
    "\n",
    "Número de transações: 192,544 </p>\n"
   ]
  },
  {
   "cell_type": "markdown",
   "metadata": {},
   "source": [
    "### Dicionário"
   ]
  },
  {
   "cell_type": "markdown",
   "metadata": {},
   "source": [
    "- **item_id:** ID exclusivo do produto\n",
    "\n",
    "- **weight:** medição de peso do cliente\n",
    "\n",
    "- **rented for:** roupas para esse fim que foram alugadas para\n",
    "\n",
    "- **body type:** tipo de corpo do cliente\n",
    "\n",
    "- **review_text:** avaliação dada pelo cliente\n",
    "\n",
    "- **review_summary:** resumo da avaliação\n",
    "\n",
    "- **size:** o tamanho padronizado do produto\n",
    "\n",
    "- **rating:** classificação do produto\n",
    "\n",
    "- **age:** idade do cliente\n",
    "\n",
    "- **category:** a categoria do produto\n",
    "\n",
    "- **bust size:** medição do busto do cliente\n",
    "\n",
    "- **height:** altura do cliente\n",
    "\n",
    "- **fit:** ajuste de feedback\n",
    "\n",
    "- **user_id:** um ID exclusivo para o cliente\n",
    "\n",
    "- **review_date**: data em que a resenha foi escrita"
   ]
  },
  {
   "cell_type": "markdown",
   "metadata": {},
   "source": [
    "## Objetivos\n",
    "<p> 1. Produza um gráfico da distribuição de peso (histograma) dos clientes (<strong>em Kg</strong>)</p>\n",
    "<p> 2. Qual motivo de aluguel (“rented for”) tem o maior número absoluto de “fits”?  Quantos “fits” há para este motivo de aluguel?</p>\n",
    "<p>3. Qual motivo de aluguel (“rented for”) tem o maior número relativo de “fits”? Qual é o percentual de “fits” para este motivo de aluguel?</p>\n",
    "<p>4. Produza uma estatística de palavras mais usadas nas avaliações (“review_text”);</p>\n",
    "<p>5. Que outra estatística ou insight você poderia extrair destes dados?</p>"
   ]
  },
  {
   "cell_type": "markdown",
   "metadata": {},
   "source": [
    "## Preparando o Ambiente"
   ]
  },
  {
   "cell_type": "markdown",
   "metadata": {},
   "source": [
    "### Distribuição Linux"
   ]
  },
  {
   "cell_type": "code",
   "execution_count": 5,
   "metadata": {},
   "outputs": [
    {
     "name": "stdout",
     "output_type": "stream",
     "text": [
      "No LSB modules are available.\n",
      "Distributor ID:\tUbuntu\n",
      "Description:\tUbuntu 22.04.3 LTS\n",
      "Release:\t22.04\n",
      "Codename:\tjammy\n"
     ]
    }
   ],
   "source": [
    "! lsb_release -a"
   ]
  },
  {
   "cell_type": "markdown",
   "metadata": {},
   "source": [
    "### Versão do Python"
   ]
  },
  {
   "cell_type": "code",
   "execution_count": 3,
   "metadata": {},
   "outputs": [
    {
     "name": "stdout",
     "output_type": "stream",
     "text": [
      "Python 3.10.12\n"
     ]
    }
   ],
   "source": [
    "! python -V"
   ]
  },
  {
   "cell_type": "markdown",
   "metadata": {},
   "source": [
    "### Instalando as libs"
   ]
  },
  {
   "cell_type": "code",
   "execution_count": 2,
   "metadata": {},
   "outputs": [
    {
     "name": "stdout",
     "output_type": "stream",
     "text": [
      "Collecting pyspark\n",
      "  Downloading pyspark-3.5.0.tar.gz (316.9 MB)\n",
      "\u001b[2K     \u001b[90m━━━━━━━━━━━━━━━━━━━━━━━━━━━━━━━━━━━━━\u001b[0m \u001b[32m316.9/316.9 MB\u001b[0m \u001b[31m823.2 kB/s\u001b[0m eta \u001b[36m0:00:00\u001b[0m00:01\u001b[0m00:01\u001b[0m\n",
      "\u001b[?25h  Installing build dependencies ... \u001b[?25ldone\n",
      "\u001b[?25h  Getting requirements to build wheel ... \u001b[?25ldone\n",
      "\u001b[?25h  Preparing metadata (pyproject.toml) ... \u001b[?25ldone\n",
      "\u001b[?25hCollecting py4j==0.10.9.7 (from pyspark)\n",
      "  Downloading py4j-0.10.9.7-py2.py3-none-any.whl (200 kB)\n",
      "\u001b[2K     \u001b[90m━━━━━━━━━━━━━━━━━━━━━━━━━━━━━━━━━━━━━━━\u001b[0m \u001b[32m200.5/200.5 kB\u001b[0m \u001b[31m6.2 MB/s\u001b[0m eta \u001b[36m0:00:00\u001b[0m\n",
      "\u001b[?25hBuilding wheels for collected packages: pyspark\n",
      "  Building wheel for pyspark (pyproject.toml) ... \u001b[?25ldone\n",
      "\u001b[?25h  Created wheel for pyspark: filename=pyspark-3.5.0-py2.py3-none-any.whl size=317425344 sha256=e5faf3fa0028d7b41e987bdd67adf78ff90cf7bf840219650506b7ef089afd01\n",
      "  Stored in directory: /home/dgamorim/.cache/pip/wheels/41/4e/10/c2cf2467f71c678cfc8a6b9ac9241e5e44a01940da8fbb17fc\n",
      "Successfully built pyspark\n",
      "Installing collected packages: py4j, pyspark\n",
      "Successfully installed py4j-0.10.9.7 pyspark-3.5.0\n",
      "Collecting findspark\n",
      "  Downloading findspark-2.0.1-py2.py3-none-any.whl (4.4 kB)\n",
      "Installing collected packages: findspark\n",
      "Successfully installed findspark-2.0.1\n"
     ]
    }
   ],
   "source": [
    "! pip install -r \"../requirements.txt\""
   ]
  },
  {
   "cell_type": "markdown",
   "metadata": {},
   "source": [
    "### Instalando o JDK"
   ]
  },
  {
   "cell_type": "markdown",
   "metadata": {},
   "source": [
    "- Execute no terminal o seguinte comando:\n",
    "  - ```sudo apt-get install openjdk-8-jdk-headless -qq > /dev/null```"
   ]
  },
  {
   "cell_type": "code",
   "execution_count": 8,
   "metadata": {},
   "outputs": [
    {
     "name": "stdout",
     "output_type": "stream",
     "text": [
      "openjdk version \"1.8.0_382\"\n",
      "OpenJDK Runtime Environment (build 1.8.0_382-8u382-ga-1~22.04.1-b05)\n",
      "OpenJDK 64-Bit Server VM (build 25.382-b05, mixed mode)\n"
     ]
    }
   ],
   "source": [
    "! java -version"
   ]
  },
  {
   "cell_type": "markdown",
   "metadata": {},
   "source": [
    "### Download do Spark"
   ]
  },
  {
   "cell_type": "code",
   "execution_count": 10,
   "metadata": {},
   "outputs": [
    {
     "name": "stdout",
     "output_type": "stream",
     "text": [
      "^C\n"
     ]
    }
   ],
   "source": [
    "! wget -q -P \"../spark\" \"https://archive.apache.org/dist/spark/spark-3.5.0/spark-3.5.0-bin-hadoop3.tgz\""
   ]
  },
  {
   "cell_type": "code",
   "execution_count": 14,
   "metadata": {},
   "outputs": [],
   "source": [
    "! tar xf \"../spark/spark-3.5.0-bin-hadoop3.tgz\" -C \"../spark\""
   ]
  },
  {
   "cell_type": "code",
   "execution_count": 15,
   "metadata": {},
   "outputs": [],
   "source": [
    "! rm -rf \"../spark/spark-3.5.0-bin-hadoop3.tgz\""
   ]
  },
  {
   "cell_type": "markdown",
   "metadata": {},
   "source": [
    "### Importando as bibliotecas"
   ]
  },
  {
   "cell_type": "code",
   "execution_count": 67,
   "metadata": {},
   "outputs": [],
   "source": [
    "from pyspark.sql import SparkSession\n",
    "from pyspark.sql.types import DoubleType\n",
    "from pyspark.sql import functions as f\n",
    "import matplotlib.pyplot as plt"
   ]
  },
  {
   "cell_type": "markdown",
   "metadata": {},
   "source": [
    "### Instanciando o Spark"
   ]
  },
  {
   "cell_type": "code",
   "execution_count": 16,
   "metadata": {},
   "outputs": [],
   "source": [
    "! export JAVA_HOME=$(readlink -f $(which java))\n",
    "! export SPARK_HOME=\"$(readlink -f ../)/spark/spark-3.5.0-bin-hadoop3\""
   ]
  },
  {
   "cell_type": "code",
   "execution_count": 17,
   "metadata": {},
   "outputs": [],
   "source": [
    "import findspark\n",
    "findspark.init()"
   ]
  },
  {
   "cell_type": "code",
   "execution_count": 29,
   "metadata": {},
   "outputs": [],
   "source": [
    "spark = SparkSession.builder\\\n",
    "                    .appName(\"Atividade Data Science - Multiplan\")\\\n",
    "                    .getOrCreate()"
   ]
  },
  {
   "cell_type": "code",
   "execution_count": 30,
   "metadata": {},
   "outputs": [
    {
     "data": {
      "text/html": [
       "\n",
       "            <div>\n",
       "                <p><b>SparkSession - in-memory</b></p>\n",
       "                \n",
       "        <div>\n",
       "            <p><b>SparkContext</b></p>\n",
       "\n",
       "            <p><a href=\"http://172.23.17.233:4040\">Spark UI</a></p>\n",
       "\n",
       "            <dl>\n",
       "              <dt>Version</dt>\n",
       "                <dd><code>v3.5.0</code></dd>\n",
       "              <dt>Master</dt>\n",
       "                <dd><code>local[*]</code></dd>\n",
       "              <dt>AppName</dt>\n",
       "                <dd><code>Atividade Data Science - Multiplan</code></dd>\n",
       "            </dl>\n",
       "        </div>\n",
       "        \n",
       "            </div>\n",
       "        "
      ],
      "text/plain": [
       "<pyspark.sql.session.SparkSession at 0x7f384814abf0>"
      ]
     },
     "execution_count": 30,
     "metadata": {},
     "output_type": "execute_result"
    }
   ],
   "source": [
    "spark"
   ]
  },
  {
   "cell_type": "markdown",
   "metadata": {},
   "source": [
    "## Lendo o arquivo"
   ]
  },
  {
   "cell_type": "markdown",
   "metadata": {},
   "source": [
    "### Describe"
   ]
  },
  {
   "cell_type": "code",
   "execution_count": 41,
   "metadata": {},
   "outputs": [
    {
     "name": "stderr",
     "output_type": "stream",
     "text": [
      "                                                                                \r"
     ]
    }
   ],
   "source": [
    "df = spark.read.json('../data/raw/renttherunway_final_data.json')"
   ]
  },
  {
   "cell_type": "code",
   "execution_count": 42,
   "metadata": {},
   "outputs": [
    {
     "name": "stdout",
     "output_type": "stream",
     "text": [
      "root\n",
      " |-- age: string (nullable = true)\n",
      " |-- body type: string (nullable = true)\n",
      " |-- bust size: string (nullable = true)\n",
      " |-- category: string (nullable = true)\n",
      " |-- fit: string (nullable = true)\n",
      " |-- height: string (nullable = true)\n",
      " |-- item_id: string (nullable = true)\n",
      " |-- rating: string (nullable = true)\n",
      " |-- rented for: string (nullable = true)\n",
      " |-- review_date: string (nullable = true)\n",
      " |-- review_summary: string (nullable = true)\n",
      " |-- review_text: string (nullable = true)\n",
      " |-- size: long (nullable = true)\n",
      " |-- user_id: string (nullable = true)\n",
      " |-- weight: string (nullable = true)\n",
      "\n"
     ]
    }
   ],
   "source": [
    "df.printSchema()"
   ]
  },
  {
   "cell_type": "code",
   "execution_count": 43,
   "metadata": {},
   "outputs": [
    {
     "name": "stdout",
     "output_type": "stream",
     "text": [
      "+---+-----------------+---------+--------+---+------+-------+------+-------------+------------------+--------------------+--------------------+----+-------+------+\n",
      "|age|        body type|bust size|category|fit|height|item_id|rating|   rented for|       review_date|      review_summary|         review_text|size|user_id|weight|\n",
      "+---+-----------------+---------+--------+---+------+-------+------+-------------+------------------+--------------------+--------------------+----+-------+------+\n",
      "| 28|        hourglass|      34d|  romper|fit| 5' 8\"|2260466|    10|     vacation|    April 20, 2016|So many compliments!|An adorable rompe...|  14| 420272|137lbs|\n",
      "| 36|straight & narrow|      34b|    gown|fit| 5' 6\"| 153475|    10|        other|     June 18, 2013|I felt so glamour...|I rented this dre...|  12| 273551|132lbs|\n",
      "|116|             NULL|     NULL|  sheath|fit| 5' 4\"|1063761|    10|        party| December 14, 2015|It was a great ti...|This hugged in al...|   4| 360448|  NULL|\n",
      "| 34|             pear|      34c|   dress|fit| 5' 5\"| 126335|     8|formal affair| February 12, 2014|Dress arrived on ...|I rented this for...|   8| 909926|135lbs|\n",
      "| 27|         athletic|      34b|    gown|fit| 5' 9\"| 616682|    10|      wedding|September 26, 2016|Was in love with ...|I have always bee...|  12| 151944|145lbs|\n",
      "| 45|         athletic|      32b|   dress|fit| 5' 8\"| 364092|     8|         date|    April 30, 2016|Traditional with ...|Didn't actually w...|   8| 734848|138lbs|\n",
      "| 27|        hourglass|      34c|   dress|fit| 5' 3\"| 568429|    10|     everyday|  December 7, 2017|LITERALLY THE CUT...|This dress is so ...|   4| 336066|112lbs|\n",
      "| 65|        full bust|     34d+|   dress|fit| 5' 3\"| 130259|    10|formal affair|   January 1, 2013|Great dress, beau...|Fit was great. Ma...|   8|  86661|118lbs|\n",
      "| 27|        full bust|      36d|    gown|fit| 5' 6\"|1729232|    10|formal affair|     June 27, 2016|Great for black t...|I was nervous of ...|  21| 166228|  NULL|\n",
      "| 33|           petite|      32b|    gown|fit| 5' 3\"|1729232|    10|formal affair|  October 17, 2016|This dress was ev...|The dress was ver...|   1| 154309|114lbs|\n",
      "+---+-----------------+---------+--------+---+------+-------+------+-------------+------------------+--------------------+--------------------+----+-------+------+\n",
      "only showing top 10 rows\n",
      "\n"
     ]
    }
   ],
   "source": [
    "df.show(n=10)"
   ]
  },
  {
   "cell_type": "code",
   "execution_count": 44,
   "metadata": {},
   "outputs": [
    {
     "name": "stderr",
     "output_type": "stream",
     "text": [
      "[Stage 21:===========================================>              (3 + 1) / 4]\r"
     ]
    },
    {
     "name": "stdout",
     "output_type": "stream",
     "text": [
      "+-------+------------------+-----------------+------------------+--------+------+------+------------------+------------------+----------+-----------------+-------------------+--------------------+------------------+-----------------+------+\n",
      "|summary|               age|        body type|         bust size|category|   fit|height|           item_id|            rating|rented for|      review_date|     review_summary|         review_text|              size|          user_id|weight|\n",
      "+-------+------------------+-----------------+------------------+--------+------+------+------------------+------------------+----------+-----------------+-------------------+--------------------+------------------+-----------------+------+\n",
      "|  count|            191584|           177907|            174133|  192544|192544|191867|            192544|            192462|    192534|           192544|             192544|              192544|            192544|           192544|162562|\n",
      "|   mean|33.871017412727575|             NULL| 34.38155984691858|    NULL|  NULL|  NULL|1045683.6002991524| 9.092371481123546|      NULL|             NULL|0.14583333333333334|                 1.0|12.245175128801728|499494.1001485375|  NULL|\n",
      "| stddev|  8.05808297861402|             NULL|1.9212512635229162|    NULL|  NULL|  NULL| 805314.8023244645|1.4300441839272273|      NULL|             NULL| 0.4120309497429766|  2.6457513110645907|  8.49487668721265|289059.7193283765|  NULL|\n",
      "|    min|                 0|            apple|               28a|ballgown|   fit|4' 10\"|           1000254|                10|      date|    April 1, 2011|                   |                    |                 0|           100011|100lbs|\n",
      "|    25%|              29.0|             NULL|              32.0|    NULL|  NULL|  NULL|          195076.0|               8.0|      NULL|             NULL|                0.0|                 0.0|                 8|         250619.0|  NULL|\n",
      "|    50%|              32.0|             NULL|              34.0|    NULL|  NULL|  NULL|          948396.0|              10.0|      NULL|             NULL|                0.0|                 0.0|                12|         499362.0|  NULL|\n",
      "|    75%|              37.0|             NULL|              36.0|    NULL|  NULL|  NULL|         1677685.0|              10.0|      NULL|             NULL|                0.0|                 0.0|                16|         750893.0|  NULL|\n",
      "|    max|                99|straight & narrow|              48dd|    vest| small| 6' 6\"|            999837|                 8|      work|September 9, 2017|             💕💕💕|❤️❤️❤️ This dress...|                58|           999997| 99lbs|\n",
      "+-------+------------------+-----------------+------------------+--------+------+------+------------------+------------------+----------+-----------------+-------------------+--------------------+------------------+-----------------+------+\n",
      "\n"
     ]
    },
    {
     "name": "stderr",
     "output_type": "stream",
     "text": [
      "                                                                                \r"
     ]
    }
   ],
   "source": [
    "df.summary().show()"
   ]
  },
  {
   "cell_type": "code",
   "execution_count": 45,
   "metadata": {},
   "outputs": [],
   "source": [
    "df = df\\\n",
    "    .withColumn('rating', df['rating'].cast(DoubleType()))"
   ]
  },
  {
   "cell_type": "code",
   "execution_count": 46,
   "metadata": {},
   "outputs": [
    {
     "name": "stdout",
     "output_type": "stream",
     "text": [
      "root\n",
      " |-- age: string (nullable = true)\n",
      " |-- body type: string (nullable = true)\n",
      " |-- bust size: string (nullable = true)\n",
      " |-- category: string (nullable = true)\n",
      " |-- fit: string (nullable = true)\n",
      " |-- height: string (nullable = true)\n",
      " |-- item_id: string (nullable = true)\n",
      " |-- rating: double (nullable = true)\n",
      " |-- rented for: string (nullable = true)\n",
      " |-- review_date: string (nullable = true)\n",
      " |-- review_summary: string (nullable = true)\n",
      " |-- review_text: string (nullable = true)\n",
      " |-- size: long (nullable = true)\n",
      " |-- user_id: string (nullable = true)\n",
      " |-- weight: string (nullable = true)\n",
      "\n"
     ]
    }
   ],
   "source": [
    "df.printSchema()"
   ]
  },
  {
   "cell_type": "markdown",
   "metadata": {},
   "source": [
    "### Identificando valores nulos"
   ]
  },
  {
   "cell_type": "code",
   "execution_count": 47,
   "metadata": {},
   "outputs": [
    {
     "name": "stderr",
     "output_type": "stream",
     "text": [
      "[Stage 24:==============>                                           (1 + 3) / 4]\r"
     ]
    },
    {
     "name": "stdout",
     "output_type": "stream",
     "text": [
      "+---+---------+---------+--------+---+------+-------+------+----------+-----------+--------------+-----------+----+-------+------+\n",
      "|age|body type|bust size|category|fit|height|item_id|rating|rented for|review_date|review_summary|review_text|size|user_id|weight|\n",
      "+---+---------+---------+--------+---+------+-------+------+----------+-----------+--------------+-----------+----+-------+------+\n",
      "|960|    14637|    18411|       0|  0|   677|      0|    82|        10|          0|             0|          0|   0|      0| 29982|\n",
      "+---+---------+---------+--------+---+------+-------+------+----------+-----------+--------------+-----------+----+-------+------+\n",
      "\n"
     ]
    },
    {
     "name": "stderr",
     "output_type": "stream",
     "text": [
      "                                                                                \r"
     ]
    }
   ],
   "source": [
    "df.select([f.count(f.when(f.isnull(c), 1)).alias(c) for c in df.columns]).show()"
   ]
  },
  {
   "cell_type": "markdown",
   "metadata": {},
   "source": [
    "\n",
    "## 1. Produza um gráfico da distribuição de peso (histograma) dos clientes (<strong>em Kg</strong>)"
   ]
  },
  {
   "cell_type": "markdown",
   "metadata": {},
   "source": [
    "### Criar um dataframe sem valores nulos"
   ]
  },
  {
   "cell_type": "code",
   "execution_count": 69,
   "metadata": {},
   "outputs": [],
   "source": [
    "df_1 = df.filter(f.col(\"weight\").isNotNull())"
   ]
  },
  {
   "cell_type": "code",
   "execution_count": 70,
   "metadata": {},
   "outputs": [
    {
     "name": "stderr",
     "output_type": "stream",
     "text": [
      "[Stage 40:>                                                         (0 + 4) / 4]\r"
     ]
    },
    {
     "name": "stdout",
     "output_type": "stream",
     "text": [
      "+---+---------+---------+--------+---+------+-------+------+----------+-----------+--------------+-----------+----+-------+------+\n",
      "|age|body type|bust size|category|fit|height|item_id|rating|rented for|review_date|review_summary|review_text|size|user_id|weight|\n",
      "+---+---------+---------+--------+---+------+-------+------+----------+-----------+--------------+-----------+----+-------+------+\n",
      "|353|     8675|    10831|       0|  0|   444|      0|    57|        10|          0|             0|          0|   0|      0|     0|\n",
      "+---+---------+---------+--------+---+------+-------+------+----------+-----------+--------------+-----------+----+-------+------+\n",
      "\n"
     ]
    },
    {
     "name": "stderr",
     "output_type": "stream",
     "text": [
      "                                                                                \r"
     ]
    }
   ],
   "source": [
    "df_1.select([f.count(f.when(f.isnull(c), 1)).alias(c) for c in df.columns]).show()"
   ]
  },
  {
   "cell_type": "markdown",
   "metadata": {},
   "source": [
    "### Criando a coluna de conversão para KG"
   ]
  },
  {
   "cell_type": "code",
   "execution_count": 71,
   "metadata": {},
   "outputs": [],
   "source": [
    "lbs_to_kg = 0.45359237"
   ]
  },
  {
   "cell_type": "code",
   "execution_count": 72,
   "metadata": {},
   "outputs": [],
   "source": [
    "df_1 = df_1\\\n",
    "    .withColumn(\"weight_kg\", (f.regexp_replace(f.col(\"weight\"), \"lbs\", \"\").cast(\"double\") * lbs_to_kg))\\\n",
    "    .withColumn(\"weight_kg\", f.round(f.col(\"weight_kg\"), 2))\\\n",
    "    .select(\"user_id\", \"weight_kg\")\\\n",
    "    .distinct()"
   ]
  },
  {
   "cell_type": "code",
   "execution_count": 73,
   "metadata": {},
   "outputs": [
    {
     "name": "stderr",
     "output_type": "stream",
     "text": [
      "[Stage 43:>                                                         (0 + 4) / 4]\r"
     ]
    },
    {
     "name": "stdout",
     "output_type": "stream",
     "text": [
      "+-------+---------+\n",
      "|user_id|weight_kg|\n",
      "+-------+---------+\n",
      "| 533900|    61.23|\n",
      "| 804645|    86.18|\n",
      "| 231198|    58.97|\n",
      "| 689043|    66.22|\n",
      "| 401869|    54.43|\n",
      "|  36473|    65.77|\n",
      "| 135002|    70.31|\n",
      "| 450585|    65.77|\n",
      "| 451613|     63.5|\n",
      "|  23201|    47.63|\n",
      "+-------+---------+\n",
      "only showing top 10 rows\n",
      "\n"
     ]
    },
    {
     "name": "stderr",
     "output_type": "stream",
     "text": [
      "                                                                                \r"
     ]
    }
   ],
   "source": [
    "df_1.show(n=10)"
   ]
  },
  {
   "cell_type": "code",
   "execution_count": 74,
   "metadata": {},
   "outputs": [],
   "source": [
    "df_1 = df_1.pandas_api()"
   ]
  },
  {
   "cell_type": "code",
   "execution_count": 75,
   "metadata": {},
   "outputs": [
    {
     "name": "stderr",
     "output_type": "stream",
     "text": [
      "                                                                                \r"
     ]
    },
    {
     "data": {
      "text/html": [
       "<div>\n",
       "<style scoped>\n",
       "    .dataframe tbody tr th:only-of-type {\n",
       "        vertical-align: middle;\n",
       "    }\n",
       "\n",
       "    .dataframe tbody tr th {\n",
       "        vertical-align: top;\n",
       "    }\n",
       "\n",
       "    .dataframe thead th {\n",
       "        text-align: right;\n",
       "    }\n",
       "</style>\n",
       "<table border=\"1\" class=\"dataframe\">\n",
       "  <thead>\n",
       "    <tr style=\"text-align: right;\">\n",
       "      <th></th>\n",
       "      <th>user_id</th>\n",
       "      <th>weight_kg</th>\n",
       "    </tr>\n",
       "  </thead>\n",
       "  <tbody>\n",
       "    <tr>\n",
       "      <th>0</th>\n",
       "      <td>533900</td>\n",
       "      <td>61.23</td>\n",
       "    </tr>\n",
       "    <tr>\n",
       "      <th>1</th>\n",
       "      <td>804645</td>\n",
       "      <td>86.18</td>\n",
       "    </tr>\n",
       "    <tr>\n",
       "      <th>2</th>\n",
       "      <td>231198</td>\n",
       "      <td>58.97</td>\n",
       "    </tr>\n",
       "    <tr>\n",
       "      <th>3</th>\n",
       "      <td>689043</td>\n",
       "      <td>66.22</td>\n",
       "    </tr>\n",
       "    <tr>\n",
       "      <th>4</th>\n",
       "      <td>401869</td>\n",
       "      <td>54.43</td>\n",
       "    </tr>\n",
       "  </tbody>\n",
       "</table>\n",
       "</div>"
      ],
      "text/plain": [
       "  user_id  weight_kg\n",
       "0  533900      61.23\n",
       "1  804645      86.18\n",
       "2  231198      58.97\n",
       "3  689043      66.22\n",
       "4  401869      54.43"
      ]
     },
     "execution_count": 75,
     "metadata": {},
     "output_type": "execute_result"
    }
   ],
   "source": [
    "df_1.head()"
   ]
  },
  {
   "cell_type": "code",
   "execution_count": 77,
   "metadata": {},
   "outputs": [
    {
     "name": "stderr",
     "output_type": "stream",
     "text": [
      "/home/dgamorim/development/multiplan-data-science/.venv/lib/python3.10/site-packages/pyspark/pandas/utils.py:1016: PandasAPIOnSparkAdviceWarning: `to_numpy` loads all data into the driver's memory. It should only be used if the resulting NumPy ndarray is expected to be small.\n",
      "  warnings.warn(message, PandasAPIOnSparkAdviceWarning)\n"
     ]
    },
    {
     "data": {
      "image/png": "[encoded data removed]",
      "text/plain": [
       "<Figure size 1000x600 with 1 Axes>"
      ]
     },
     "metadata": {},
     "output_type": "display_data"
    }
   ],
   "source": [
    "plt.figure(figsize=(10, 6))\n",
    "plt.hist(df_1[\"weight_kg\"], bins=20, edgecolor=\"k\")\n",
    "plt.title(\"Distribuição de Peso dos Clientes\")\n",
    "plt.xlabel(\"Peso (Kg)\")\n",
    "plt.ylabel(\"Contagem Usuários\")\n",
    "plt.grid(True)\n",
    "plt.show()"
   ]
  },
  {
   "cell_type": "markdown",
   "metadata": {},
   "source": [
    "## 2. Qual motivo de aluguel (“rented for”) tem o maior número absoluto de “fits”?  Quantos “fits” há para este motivo de aluguel?"
   ]
  },
  {
   "cell_type": "code",
   "execution_count": 93,
   "metadata": {},
   "outputs": [],
   "source": [
    "df_2 = df.select('rented for', 'fit')"
   ]
  },
  {
   "cell_type": "code",
   "execution_count": 94,
   "metadata": {},
   "outputs": [],
   "source": [
    "df_2 = df_2.filter(df[\"fit\"] == \"fit\")"
   ]
  },
  {
   "cell_type": "code",
   "execution_count": 95,
   "metadata": {},
   "outputs": [],
   "source": [
    "df_2 = df_2\\\n",
    "    .groupBy(\"rented for\")\\\n",
    "    .agg({\"fit\": \"count\"})"
   ]
  },
  {
   "cell_type": "code",
   "execution_count": 98,
   "metadata": {},
   "outputs": [],
   "source": [
    "df_2 = df_2.orderBy(f.col(\"count(fit)\").desc())"
   ]
  },
  {
   "cell_type": "code",
   "execution_count": 99,
   "metadata": {},
   "outputs": [
    {
     "name": "stderr",
     "output_type": "stream",
     "text": [
      "[Stage 68:==============>                                           (1 + 3) / 4]\r"
     ]
    },
    {
     "name": "stdout",
     "output_type": "stream",
     "text": [
      "+---------------+----------+\n",
      "|     rented for|count(fit)|\n",
      "+---------------+----------+\n",
      "|        wedding|     43111|\n",
      "|  formal affair|     31089|\n",
      "|          party|     25874|\n",
      "|       everyday|     11608|\n",
      "|          other|     11334|\n",
      "|           work|     10857|\n",
      "|           date|      5261|\n",
      "|       vacation|      2914|\n",
      "|           NULL|         9|\n",
      "|party: cocktail|         1|\n",
      "+---------------+----------+\n",
      "\n"
     ]
    },
    {
     "name": "stderr",
     "output_type": "stream",
     "text": [
      "                                                                                \r"
     ]
    }
   ],
   "source": [
    "df_2.show(20)"
   ]
  },
  {
   "cell_type": "code",
   "execution_count": 100,
   "metadata": {},
   "outputs": [],
   "source": [
    "df_2 = df_2.first()"
   ]
  },
  {
   "cell_type": "code",
   "execution_count": 104,
   "metadata": {},
   "outputs": [
    {
     "name": "stdout",
     "output_type": "stream",
     "text": [
      "Aluguel que tem maior número de 'fit': wedding\n",
      "Quantidade de 'fit' para o aluguel wedding: 43111\n"
     ]
    }
   ],
   "source": [
    "print(\"Aluguel que tem maior número de 'fit':\", df_2[\"rented for\"])\n",
    "print(f\"Quantidade de 'fit' para o aluguel {df_2['rented for']}: {df_2['count(fit)']}\")"
   ]
  },
  {
   "cell_type": "markdown",
   "metadata": {},
   "source": [
    "## 3."
   ]
  },
  {
   "cell_type": "markdown",
   "metadata": {},
   "source": []
  }
 ],
 "metadata": {
  "kernelspec": {
   "display_name": ".venv",
   "language": "python",
   "name": "python3"
  },
  "language_info": {
   "codemirror_mode": {
    "name": "ipython",
    "version": 3
   },
   "file_extension": ".py",
   "mimetype": "text/x-python",
   "name": "python",
   "nbconvert_exporter": "python",
   "pygments_lexer": "ipython3",
   "version": "3.10.12"
  }
 },
 "nbformat": 4,
 "nbformat_minor": 2
}
