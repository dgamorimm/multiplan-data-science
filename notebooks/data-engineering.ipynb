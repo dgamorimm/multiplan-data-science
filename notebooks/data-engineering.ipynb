{
 "cells": [
  {
   "cell_type": "markdown",
   "metadata": {},
   "source": [
    "# Atividade • Data Engineering\n",
    "<hr>"
   ]
  },
  {
   "cell_type": "markdown",
   "metadata": {},
   "source": [
    "## Data Discovery"
   ]
  },
  {
   "cell_type": "markdown",
   "metadata": {},
   "source": [
    "### Formato"
   ]
  },
  {
   "cell_type": "markdown",
   "metadata": {},
   "source": [
    "```%h %l %u %t \\\"%r\\\" %>s %b \\\"%{Referer}i\\\" \\\"%{User-agent}i\\```"
   ]
  },
  {
   "cell_type": "markdown",
   "metadata": {},
   "source": [
    "### Dicionário"
   ]
  },
  {
   "cell_type": "markdown",
   "metadata": {},
   "source": [
    "<p> <strong>%h</strong>: Host remoto (endereço IP do cliente) </p>\n",
    "<p> <strong>%l</strong>: Identidade do usuário, ou traço, se não houver (geralmente não é usado)</p>\n",
    "<p> <strong>%u</strong>: Nome de usuário, via autenticação HTTP ou traço se não for usado</p>\n",
    "<p> <strong>%t</strong>: Carimbo de data e hora de quando o Apache recebeu a solicitação HTTP </p>\n",
    "<p> <strong>\\”%r\\</strong>: A própria solicitação real do cliente </p>\n",
    "<p> <strong>%>s</strong>: O código de status que o Apache retorna em resposta à solicitação </p>\n",
    "<p> <strong>%T</strong>: O tempo de resposta em milissegundos. </p>\n",
    "<p> <strong>\\”%{Referer}i\\”</strong>: Cabeçalho do referenciador ou travessão, se não for usado (em outras palavras, eles clicaram em um URL de outro site para acessar o seu site) </p>\n",
    "<p> <strong>\\”%{User-agent}i\\</strong>: User agent (contém informações sobre o navegador/SO/etc do solicitante) </p>"
   ]
  },
  {
   "cell_type": "markdown",
   "metadata": {},
   "source": [
    "## Objetivos"
   ]
  },
  {
   "cell_type": "markdown",
   "metadata": {},
   "source": [
    "### Explorar as habilidades e o conhecimento sobre: desenvolvimento de scripts, tratamento de dados, estrutura de dados, ordenação, parse e formatação."
   ]
  },
  {
   "cell_type": "markdown",
   "metadata": {},
   "source": [
    "<p> <strong>1.</strong> Formatar uma saída do log em json contendo a lista de request apresentada no log, cada objeto dentro da lista deve conter as propriedades de uma entrada no log como remote_host, date, request, status_code, response_time, reffer, user_agent; </p>\n",
    "<p> <strong>2.</strong> Encontrar os 10 maiores tempos de resposta com sucesso do servidor na chamada GET /maunal/ com a origem do tráfego (reffer) igual a <strong><a href=\"http://localhost/svnview?repos=devel&rev=latest&root=SVNview/tmpl&list_revs=1\">http://localhost/svnview?repos=devel&rev=latest&root=SVNview/tmpl&list_revs=1</a></strong>; </p>\n",
    "<p> <strong>3.</strong> Formatar uma saída em arquivo físico do access.log com a data em formato UNIX timestamp %Y-%m-%d %H:%M:%S e o IP convertido em um hash MD5; </p>\n",
    "<p> <strong>4.</strong> Formatar uma saída em arquivo físico agrupando a soma total de requests por dia do ano; </p>\n",
    "<p> <strong>5.</strong> Formatar uma saída em arquivo físico com endereços de IP únicos, um IP por linha, contidos no log com a última data de request realizado pelo remote IP. </p>"
   ]
  },
  {
   "cell_type": "markdown",
   "metadata": {},
   "source": [
    "## Preparando o Ambiente"
   ]
  },
  {
   "cell_type": "markdown",
   "metadata": {},
   "source": [
    "### Distribuição Linux"
   ]
  },
  {
   "cell_type": "code",
   "execution_count": 1,
   "metadata": {},
   "outputs": [
    {
     "name": "stdout",
     "output_type": "stream",
     "text": [
      "No LSB modules are available.\n",
      "Distributor ID:\tUbuntu\n",
      "Description:\tUbuntu 22.04.3 LTS\n",
      "Release:\t22.04\n",
      "Codename:\tjammy\n"
     ]
    }
   ],
   "source": [
    "! lsb_release -a"
   ]
  },
  {
   "cell_type": "markdown",
   "metadata": {},
   "source": [
    "### Versão do Python"
   ]
  },
  {
   "cell_type": "code",
   "execution_count": 2,
   "metadata": {},
   "outputs": [
    {
     "name": "stdout",
     "output_type": "stream",
     "text": [
      "Python 3.10.12\n"
     ]
    }
   ],
   "source": [
    "! python -V"
   ]
  },
  {
   "cell_type": "markdown",
   "metadata": {},
   "source": [
    "### Instalando as libs"
   ]
  },
  {
   "cell_type": "code",
   "execution_count": 3,
   "metadata": {},
   "outputs": [
    {
     "name": "stdout",
     "output_type": "stream",
     "text": [
      "Requirement already satisfied: absl-py==2.0.0 in /home/dgamorim/development/multiplan-data-science/.venv/lib/python3.10/site-packages (from -r ../requirements.txt (line 1)) (2.0.0)\n",
      "Requirement already satisfied: arrow==1.3.0 in /home/dgamorim/development/multiplan-data-science/.venv/lib/python3.10/site-packages (from -r ../requirements.txt (line 2)) (1.3.0)\n",
      "Requirement already satisfied: asttokens==2.4.0 in /home/dgamorim/development/multiplan-data-science/.venv/lib/python3.10/site-packages (from -r ../requirements.txt (line 3)) (2.4.0)\n",
      "Requirement already satisfied: astunparse==1.6.3 in /home/dgamorim/development/multiplan-data-science/.venv/lib/python3.10/site-packages (from -r ../requirements.txt (line 4)) (1.6.3)\n",
      "Requirement already satisfied: backcall==0.2.0 in /home/dgamorim/development/multiplan-data-science/.venv/lib/python3.10/site-packages (from -r ../requirements.txt (line 5)) (0.2.0)\n",
      "Requirement already satisfied: binaryornot==0.4.4 in /home/dgamorim/development/multiplan-data-science/.venv/lib/python3.10/site-packages (from -r ../requirements.txt (line 6)) (0.4.4)\n",
      "Requirement already satisfied: cachetools==5.3.1 in /home/dgamorim/development/multiplan-data-science/.venv/lib/python3.10/site-packages (from -r ../requirements.txt (line 7)) (5.3.1)\n",
      "Requirement already satisfied: certifi==2023.7.22 in /home/dgamorim/development/multiplan-data-science/.venv/lib/python3.10/site-packages (from -r ../requirements.txt (line 8)) (2023.7.22)\n",
      "Requirement already satisfied: chardet==5.2.0 in /home/dgamorim/development/multiplan-data-science/.venv/lib/python3.10/site-packages (from -r ../requirements.txt (line 9)) (5.2.0)\n",
      "Requirement already satisfied: charset-normalizer==3.3.1 in /home/dgamorim/development/multiplan-data-science/.venv/lib/python3.10/site-packages (from -r ../requirements.txt (line 10)) (3.3.1)\n",
      "Requirement already satisfied: click==8.1.7 in /home/dgamorim/development/multiplan-data-science/.venv/lib/python3.10/site-packages (from -r ../requirements.txt (line 11)) (8.1.7)\n",
      "Requirement already satisfied: comm==0.1.4 in /home/dgamorim/development/multiplan-data-science/.venv/lib/python3.10/site-packages (from -r ../requirements.txt (line 12)) (0.1.4)\n",
      "Requirement already satisfied: contourpy==1.1.1 in /home/dgamorim/development/multiplan-data-science/.venv/lib/python3.10/site-packages (from -r ../requirements.txt (line 13)) (1.1.1)\n",
      "Requirement already satisfied: cookiecutter==2.4.0 in /home/dgamorim/development/multiplan-data-science/.venv/lib/python3.10/site-packages (from -r ../requirements.txt (line 14)) (2.4.0)\n",
      "Requirement already satisfied: cycler==0.12.1 in /home/dgamorim/development/multiplan-data-science/.venv/lib/python3.10/site-packages (from -r ../requirements.txt (line 15)) (0.12.1)\n",
      "Requirement already satisfied: debugpy==1.8.0 in /home/dgamorim/development/multiplan-data-science/.venv/lib/python3.10/site-packages (from -r ../requirements.txt (line 16)) (1.8.0)\n",
      "Requirement already satisfied: decorator==5.1.1 in /home/dgamorim/development/multiplan-data-science/.venv/lib/python3.10/site-packages (from -r ../requirements.txt (line 17)) (5.1.1)\n",
      "Requirement already satisfied: exceptiongroup==1.1.3 in /home/dgamorim/development/multiplan-data-science/.venv/lib/python3.10/site-packages (from -r ../requirements.txt (line 18)) (1.1.3)\n",
      "Requirement already satisfied: executing==2.0.0 in /home/dgamorim/development/multiplan-data-science/.venv/lib/python3.10/site-packages (from -r ../requirements.txt (line 19)) (2.0.0)\n",
      "Requirement already satisfied: filelock==3.12.4 in /home/dgamorim/development/multiplan-data-science/.venv/lib/python3.10/site-packages (from -r ../requirements.txt (line 20)) (3.12.4)\n",
      "Requirement already satisfied: findspark==2.0.1 in /home/dgamorim/development/multiplan-data-science/.venv/lib/python3.10/site-packages (from -r ../requirements.txt (line 21)) (2.0.1)\n",
      "Requirement already satisfied: flatbuffers==23.5.26 in /home/dgamorim/development/multiplan-data-science/.venv/lib/python3.10/site-packages (from -r ../requirements.txt (line 22)) (23.5.26)\n",
      "Requirement already satisfied: fonttools==4.43.1 in /home/dgamorim/development/multiplan-data-science/.venv/lib/python3.10/site-packages (from -r ../requirements.txt (line 23)) (4.43.1)\n",
      "Requirement already satisfied: fsspec==2023.10.0 in /home/dgamorim/development/multiplan-data-science/.venv/lib/python3.10/site-packages (from -r ../requirements.txt (line 24)) (2023.10.0)\n",
      "Requirement already satisfied: gast==0.5.4 in /home/dgamorim/development/multiplan-data-science/.venv/lib/python3.10/site-packages (from -r ../requirements.txt (line 25)) (0.5.4)\n",
      "Requirement already satisfied: google-auth==2.23.3 in /home/dgamorim/development/multiplan-data-science/.venv/lib/python3.10/site-packages (from -r ../requirements.txt (line 26)) (2.23.3)\n",
      "Requirement already satisfied: google-auth-oauthlib==1.0.0 in /home/dgamorim/development/multiplan-data-science/.venv/lib/python3.10/site-packages (from -r ../requirements.txt (line 27)) (1.0.0)\n",
      "Requirement already satisfied: google-pasta==0.2.0 in /home/dgamorim/development/multiplan-data-science/.venv/lib/python3.10/site-packages (from -r ../requirements.txt (line 28)) (0.2.0)\n",
      "Requirement already satisfied: grpcio==1.59.0 in /home/dgamorim/development/multiplan-data-science/.venv/lib/python3.10/site-packages (from -r ../requirements.txt (line 29)) (1.59.0)\n",
      "Requirement already satisfied: h5py==3.10.0 in /home/dgamorim/development/multiplan-data-science/.venv/lib/python3.10/site-packages (from -r ../requirements.txt (line 30)) (3.10.0)\n",
      "Requirement already satisfied: huggingface-hub==0.17.3 in /home/dgamorim/development/multiplan-data-science/.venv/lib/python3.10/site-packages (from -r ../requirements.txt (line 31)) (0.17.3)\n",
      "Requirement already satisfied: idna==3.4 in /home/dgamorim/development/multiplan-data-science/.venv/lib/python3.10/site-packages (from -r ../requirements.txt (line 32)) (3.4)\n",
      "Requirement already satisfied: ipykernel==6.25.2 in /home/dgamorim/development/multiplan-data-science/.venv/lib/python3.10/site-packages (from -r ../requirements.txt (line 33)) (6.25.2)\n",
      "Requirement already satisfied: ipython==8.16.1 in /home/dgamorim/development/multiplan-data-science/.venv/lib/python3.10/site-packages (from -r ../requirements.txt (line 34)) (8.16.1)\n",
      "Requirement already satisfied: jedi==0.19.1 in /home/dgamorim/development/multiplan-data-science/.venv/lib/python3.10/site-packages (from -r ../requirements.txt (line 35)) (0.19.1)\n",
      "Requirement already satisfied: Jinja2==3.1.2 in /home/dgamorim/development/multiplan-data-science/.venv/lib/python3.10/site-packages (from -r ../requirements.txt (line 36)) (3.1.2)\n",
      "Requirement already satisfied: joblib==1.3.2 in /home/dgamorim/development/multiplan-data-science/.venv/lib/python3.10/site-packages (from -r ../requirements.txt (line 37)) (1.3.2)\n",
      "Requirement already satisfied: jupyter_client==8.4.0 in /home/dgamorim/development/multiplan-data-science/.venv/lib/python3.10/site-packages (from -r ../requirements.txt (line 38)) (8.4.0)\n",
      "Requirement already satisfied: jupyter_core==5.4.0 in /home/dgamorim/development/multiplan-data-science/.venv/lib/python3.10/site-packages (from -r ../requirements.txt (line 39)) (5.4.0)\n",
      "Requirement already satisfied: keras==2.14.0 in /home/dgamorim/development/multiplan-data-science/.venv/lib/python3.10/site-packages (from -r ../requirements.txt (line 40)) (2.14.0)\n",
      "Requirement already satisfied: kiwisolver==1.4.5 in /home/dgamorim/development/multiplan-data-science/.venv/lib/python3.10/site-packages (from -r ../requirements.txt (line 41)) (1.4.5)\n",
      "Requirement already satisfied: libclang==16.0.6 in /home/dgamorim/development/multiplan-data-science/.venv/lib/python3.10/site-packages (from -r ../requirements.txt (line 42)) (16.0.6)\n",
      "Requirement already satisfied: Markdown==3.5 in /home/dgamorim/development/multiplan-data-science/.venv/lib/python3.10/site-packages (from -r ../requirements.txt (line 43)) (3.5)\n",
      "Requirement already satisfied: markdown-it-py==3.0.0 in /home/dgamorim/development/multiplan-data-science/.venv/lib/python3.10/site-packages (from -r ../requirements.txt (line 44)) (3.0.0)\n",
      "Requirement already satisfied: MarkupSafe==2.1.3 in /home/dgamorim/development/multiplan-data-science/.venv/lib/python3.10/site-packages (from -r ../requirements.txt (line 45)) (2.1.3)\n",
      "Requirement already satisfied: matplotlib==3.8.0 in /home/dgamorim/development/multiplan-data-science/.venv/lib/python3.10/site-packages (from -r ../requirements.txt (line 46)) (3.8.0)\n",
      "Requirement already satisfied: matplotlib-inline==0.1.6 in /home/dgamorim/development/multiplan-data-science/.venv/lib/python3.10/site-packages (from -r ../requirements.txt (line 47)) (0.1.6)\n",
      "Requirement already satisfied: mdurl==0.1.2 in /home/dgamorim/development/multiplan-data-science/.venv/lib/python3.10/site-packages (from -r ../requirements.txt (line 48)) (0.1.2)\n",
      "Requirement already satisfied: ml-dtypes==0.2.0 in /home/dgamorim/development/multiplan-data-science/.venv/lib/python3.10/site-packages (from -r ../requirements.txt (line 49)) (0.2.0)\n",
      "Requirement already satisfied: nest-asyncio==1.5.8 in /home/dgamorim/development/multiplan-data-science/.venv/lib/python3.10/site-packages (from -r ../requirements.txt (line 50)) (1.5.8)\n",
      "Requirement already satisfied: nltk==3.8.1 in /home/dgamorim/development/multiplan-data-science/.venv/lib/python3.10/site-packages (from -r ../requirements.txt (line 51)) (3.8.1)\n",
      "Requirement already satisfied: numpy==1.26.1 in /home/dgamorim/development/multiplan-data-science/.venv/lib/python3.10/site-packages (from -r ../requirements.txt (line 52)) (1.26.1)\n",
      "Requirement already satisfied: oauthlib==3.2.2 in /home/dgamorim/development/multiplan-data-science/.venv/lib/python3.10/site-packages (from -r ../requirements.txt (line 53)) (3.2.2)\n",
      "Requirement already satisfied: opt-einsum==3.3.0 in /home/dgamorim/development/multiplan-data-science/.venv/lib/python3.10/site-packages (from -r ../requirements.txt (line 54)) (3.3.0)\n",
      "Requirement already satisfied: packaging==23.2 in /home/dgamorim/development/multiplan-data-science/.venv/lib/python3.10/site-packages (from -r ../requirements.txt (line 55)) (23.2)\n",
      "Requirement already satisfied: pandas==2.1.1 in /home/dgamorim/development/multiplan-data-science/.venv/lib/python3.10/site-packages (from -r ../requirements.txt (line 56)) (2.1.1)\n",
      "Requirement already satisfied: parso==0.8.3 in /home/dgamorim/development/multiplan-data-science/.venv/lib/python3.10/site-packages (from -r ../requirements.txt (line 57)) (0.8.3)\n",
      "Requirement already satisfied: pexpect==4.8.0 in /home/dgamorim/development/multiplan-data-science/.venv/lib/python3.10/site-packages (from -r ../requirements.txt (line 58)) (4.8.0)\n",
      "Requirement already satisfied: pickleshare==0.7.5 in /home/dgamorim/development/multiplan-data-science/.venv/lib/python3.10/site-packages (from -r ../requirements.txt (line 59)) (0.7.5)\n",
      "Requirement already satisfied: Pillow==10.1.0 in /home/dgamorim/development/multiplan-data-science/.venv/lib/python3.10/site-packages (from -r ../requirements.txt (line 60)) (10.1.0)\n",
      "Requirement already satisfied: platformdirs==3.11.0 in /home/dgamorim/development/multiplan-data-science/.venv/lib/python3.10/site-packages (from -r ../requirements.txt (line 61)) (3.11.0)\n",
      "Requirement already satisfied: prompt-toolkit==3.0.39 in /home/dgamorim/development/multiplan-data-science/.venv/lib/python3.10/site-packages (from -r ../requirements.txt (line 62)) (3.0.39)\n",
      "Requirement already satisfied: protobuf==4.24.4 in /home/dgamorim/development/multiplan-data-science/.venv/lib/python3.10/site-packages (from -r ../requirements.txt (line 63)) (4.24.4)\n",
      "Requirement already satisfied: psutil==5.9.6 in /home/dgamorim/development/multiplan-data-science/.venv/lib/python3.10/site-packages (from -r ../requirements.txt (line 64)) (5.9.6)\n",
      "Requirement already satisfied: ptyprocess==0.7.0 in /home/dgamorim/development/multiplan-data-science/.venv/lib/python3.10/site-packages (from -r ../requirements.txt (line 65)) (0.7.0)\n",
      "Requirement already satisfied: pure-eval==0.2.2 in /home/dgamorim/development/multiplan-data-science/.venv/lib/python3.10/site-packages (from -r ../requirements.txt (line 66)) (0.2.2)\n",
      "Requirement already satisfied: py4j==0.10.9.7 in /home/dgamorim/development/multiplan-data-science/.venv/lib/python3.10/site-packages (from -r ../requirements.txt (line 67)) (0.10.9.7)\n",
      "Requirement already satisfied: pyarrow==13.0.0 in /home/dgamorim/development/multiplan-data-science/.venv/lib/python3.10/site-packages (from -r ../requirements.txt (line 68)) (13.0.0)\n",
      "Requirement already satisfied: pyasn1==0.5.0 in /home/dgamorim/development/multiplan-data-science/.venv/lib/python3.10/site-packages (from -r ../requirements.txt (line 69)) (0.5.0)\n",
      "Requirement already satisfied: pyasn1-modules==0.3.0 in /home/dgamorim/development/multiplan-data-science/.venv/lib/python3.10/site-packages (from -r ../requirements.txt (line 70)) (0.3.0)\n",
      "Requirement already satisfied: Pygments==2.16.1 in /home/dgamorim/development/multiplan-data-science/.venv/lib/python3.10/site-packages (from -r ../requirements.txt (line 71)) (2.16.1)\n",
      "Requirement already satisfied: pyparsing==3.1.1 in /home/dgamorim/development/multiplan-data-science/.venv/lib/python3.10/site-packages (from -r ../requirements.txt (line 72)) (3.1.1)\n",
      "Requirement already satisfied: pyspark==3.5.0 in /home/dgamorim/development/multiplan-data-science/.venv/lib/python3.10/site-packages (from -r ../requirements.txt (line 73)) (3.5.0)\n",
      "Requirement already satisfied: python-dateutil==2.8.2 in /home/dgamorim/development/multiplan-data-science/.venv/lib/python3.10/site-packages (from -r ../requirements.txt (line 74)) (2.8.2)\n",
      "Requirement already satisfied: python-slugify==8.0.1 in /home/dgamorim/development/multiplan-data-science/.venv/lib/python3.10/site-packages (from -r ../requirements.txt (line 75)) (8.0.1)\n",
      "Requirement already satisfied: pytz==2023.3.post1 in /home/dgamorim/development/multiplan-data-science/.venv/lib/python3.10/site-packages (from -r ../requirements.txt (line 76)) (2023.3.post1)\n",
      "Requirement already satisfied: PyYAML==6.0.1 in /home/dgamorim/development/multiplan-data-science/.venv/lib/python3.10/site-packages (from -r ../requirements.txt (line 77)) (6.0.1)\n",
      "Requirement already satisfied: pyzmq==25.1.1 in /home/dgamorim/development/multiplan-data-science/.venv/lib/python3.10/site-packages (from -r ../requirements.txt (line 78)) (25.1.1)\n",
      "Requirement already satisfied: regex==2023.10.3 in /home/dgamorim/development/multiplan-data-science/.venv/lib/python3.10/site-packages (from -r ../requirements.txt (line 79)) (2023.10.3)\n",
      "Requirement already satisfied: requests==2.31.0 in /home/dgamorim/development/multiplan-data-science/.venv/lib/python3.10/site-packages (from -r ../requirements.txt (line 80)) (2.31.0)\n",
      "Requirement already satisfied: requests-oauthlib==1.3.1 in /home/dgamorim/development/multiplan-data-science/.venv/lib/python3.10/site-packages (from -r ../requirements.txt (line 81)) (1.3.1)\n",
      "Requirement already satisfied: rich==13.6.0 in /home/dgamorim/development/multiplan-data-science/.venv/lib/python3.10/site-packages (from -r ../requirements.txt (line 82)) (13.6.0)\n",
      "Requirement already satisfied: rsa==4.9 in /home/dgamorim/development/multiplan-data-science/.venv/lib/python3.10/site-packages (from -r ../requirements.txt (line 83)) (4.9)\n",
      "Requirement already satisfied: safetensors==0.4.0 in /home/dgamorim/development/multiplan-data-science/.venv/lib/python3.10/site-packages (from -r ../requirements.txt (line 84)) (0.4.0)\n",
      "Requirement already satisfied: six==1.16.0 in /home/dgamorim/development/multiplan-data-science/.venv/lib/python3.10/site-packages (from -r ../requirements.txt (line 85)) (1.16.0)\n",
      "Requirement already satisfied: stack-data==0.6.3 in /home/dgamorim/development/multiplan-data-science/.venv/lib/python3.10/site-packages (from -r ../requirements.txt (line 86)) (0.6.3)\n",
      "Requirement already satisfied: tensorboard==2.14.1 in /home/dgamorim/development/multiplan-data-science/.venv/lib/python3.10/site-packages (from -r ../requirements.txt (line 87)) (2.14.1)\n",
      "Requirement already satisfied: tensorboard-data-server==0.7.2 in /home/dgamorim/development/multiplan-data-science/.venv/lib/python3.10/site-packages (from -r ../requirements.txt (line 88)) (0.7.2)\n",
      "Requirement already satisfied: tensorflow-estimator==2.14.0 in /home/dgamorim/development/multiplan-data-science/.venv/lib/python3.10/site-packages (from -r ../requirements.txt (line 89)) (2.14.0)\n",
      "Requirement already satisfied: tensorflow-io-gcs-filesystem==0.34.0 in /home/dgamorim/development/multiplan-data-science/.venv/lib/python3.10/site-packages (from -r ../requirements.txt (line 90)) (0.34.0)\n",
      "Requirement already satisfied: termcolor==2.3.0 in /home/dgamorim/development/multiplan-data-science/.venv/lib/python3.10/site-packages (from -r ../requirements.txt (line 91)) (2.3.0)\n",
      "Requirement already satisfied: text-unidecode==1.3 in /home/dgamorim/development/multiplan-data-science/.venv/lib/python3.10/site-packages (from -r ../requirements.txt (line 92)) (1.3)\n",
      "Requirement already satisfied: textblob==0.17.1 in /home/dgamorim/development/multiplan-data-science/.venv/lib/python3.10/site-packages (from -r ../requirements.txt (line 93)) (0.17.1)\n",
      "Requirement already satisfied: tokenizers==0.14.1 in /home/dgamorim/development/multiplan-data-science/.venv/lib/python3.10/site-packages (from -r ../requirements.txt (line 94)) (0.14.1)\n",
      "Requirement already satisfied: tornado==6.3.3 in /home/dgamorim/development/multiplan-data-science/.venv/lib/python3.10/site-packages (from -r ../requirements.txt (line 95)) (6.3.3)\n",
      "Requirement already satisfied: tqdm==4.66.1 in /home/dgamorim/development/multiplan-data-science/.venv/lib/python3.10/site-packages (from -r ../requirements.txt (line 96)) (4.66.1)\n",
      "Requirement already satisfied: traitlets==5.11.2 in /home/dgamorim/development/multiplan-data-science/.venv/lib/python3.10/site-packages (from -r ../requirements.txt (line 97)) (5.11.2)\n",
      "Requirement already satisfied: types-python-dateutil==2.8.19.14 in /home/dgamorim/development/multiplan-data-science/.venv/lib/python3.10/site-packages (from -r ../requirements.txt (line 98)) (2.8.19.14)\n",
      "Requirement already satisfied: typing_extensions==4.8.0 in /home/dgamorim/development/multiplan-data-science/.venv/lib/python3.10/site-packages (from -r ../requirements.txt (line 99)) (4.8.0)\n",
      "Requirement already satisfied: tzdata==2023.3 in /home/dgamorim/development/multiplan-data-science/.venv/lib/python3.10/site-packages (from -r ../requirements.txt (line 100)) (2023.3)\n",
      "Requirement already satisfied: urllib3==2.0.7 in /home/dgamorim/development/multiplan-data-science/.venv/lib/python3.10/site-packages (from -r ../requirements.txt (line 101)) (2.0.7)\n",
      "Requirement already satisfied: wcwidth==0.2.8 in /home/dgamorim/development/multiplan-data-science/.venv/lib/python3.10/site-packages (from -r ../requirements.txt (line 102)) (0.2.8)\n",
      "Requirement already satisfied: Werkzeug==3.0.0 in /home/dgamorim/development/multiplan-data-science/.venv/lib/python3.10/site-packages (from -r ../requirements.txt (line 103)) (3.0.0)\n",
      "Requirement already satisfied: wordcloud==1.9.2 in /home/dgamorim/development/multiplan-data-science/.venv/lib/python3.10/site-packages (from -r ../requirements.txt (line 104)) (1.9.2)\n",
      "Requirement already satisfied: wrapt==1.14.1 in /home/dgamorim/development/multiplan-data-science/.venv/lib/python3.10/site-packages (from -r ../requirements.txt (line 105)) (1.14.1)\n",
      "Requirement already satisfied: wheel<1.0,>=0.23.0 in /home/dgamorim/development/multiplan-data-science/.venv/lib/python3.10/site-packages (from astunparse==1.6.3->-r ../requirements.txt (line 4)) (0.41.2)\n",
      "Requirement already satisfied: setuptools>=41.0.0 in /home/dgamorim/development/multiplan-data-science/.venv/lib/python3.10/site-packages (from tensorboard==2.14.1->-r ../requirements.txt (line 87)) (65.5.0)\n"
     ]
    }
   ],
   "source": [
    "! pip install -r \"../requirements.txt\""
   ]
  },
  {
   "cell_type": "markdown",
   "metadata": {},
   "source": [
    "### Instalando o JDK"
   ]
  },
  {
   "cell_type": "markdown",
   "metadata": {},
   "source": [
    "- Execute no terminal o seguinte comando:\n",
    "  - ```sudo apt-get install openjdk-8-jdk-headless -qq > /dev/null```"
   ]
  },
  {
   "cell_type": "code",
   "execution_count": 4,
   "metadata": {},
   "outputs": [
    {
     "name": "stdout",
     "output_type": "stream",
     "text": [
      "openjdk version \"1.8.0_382\"\n",
      "OpenJDK Runtime Environment (build 1.8.0_382-8u382-ga-1~22.04.1-b05)\n",
      "OpenJDK 64-Bit Server VM (build 25.382-b05, mixed mode)\n"
     ]
    }
   ],
   "source": [
    "! java -version"
   ]
  },
  {
   "cell_type": "markdown",
   "metadata": {},
   "source": [
    "### Download do Spark"
   ]
  },
  {
   "cell_type": "code",
   "execution_count": null,
   "metadata": {},
   "outputs": [],
   "source": [
    "! wget -q -P \"../spark\" \"https://archive.apache.org/dist/spark/spark-3.5.0/spark-3.5.0-bin-hadoop3.tgz\""
   ]
  },
  {
   "cell_type": "code",
   "execution_count": null,
   "metadata": {},
   "outputs": [],
   "source": [
    "! tar xf \"../spark/spark-3.5.0-bin-hadoop3.tgz\" -C \"../spark\""
   ]
  },
  {
   "cell_type": "code",
   "execution_count": null,
   "metadata": {},
   "outputs": [],
   "source": [
    "! rm -rf \"../spark/spark-3.5.0-bin-hadoop3.tgz\""
   ]
  },
  {
   "cell_type": "markdown",
   "metadata": {},
   "source": [
    "### Importando as bibliotecas"
   ]
  },
  {
   "cell_type": "code",
   "execution_count": 5,
   "metadata": {},
   "outputs": [],
   "source": [
    "from pyspark.sql import SparkSession\n",
    "from pyspark.sql.types import DoubleType, IntegerType, FloatType\n",
    "from pyspark.sql import functions as f"
   ]
  },
  {
   "cell_type": "markdown",
   "metadata": {},
   "source": [
    "### Instanciando o Spark"
   ]
  },
  {
   "cell_type": "code",
   "execution_count": 6,
   "metadata": {},
   "outputs": [],
   "source": [
    "! export JAVA_HOME=$(readlink -f $(which java))\n",
    "! export SPARK_HOME=\"$(readlink -f ../)/spark/spark-3.5.0-bin-hadoop3\""
   ]
  },
  {
   "cell_type": "code",
   "execution_count": 7,
   "metadata": {},
   "outputs": [],
   "source": [
    "import findspark\n",
    "findspark.init()"
   ]
  },
  {
   "cell_type": "code",
   "execution_count": 8,
   "metadata": {},
   "outputs": [
    {
     "name": "stderr",
     "output_type": "stream",
     "text": [
      "your 131072x1 screen size is bogus. expect trouble\n",
      "23/10/24 15:26:39 WARN Utils: Your hostname, DESKTOP-FLROA7K resolves to a loopback address: 127.0.1.1; using 172.23.17.233 instead (on interface eth0)\n",
      "23/10/24 15:26:40 WARN Utils: Set SPARK_LOCAL_IP if you need to bind to another address\n",
      "Setting default log level to \"WARN\".\n",
      "To adjust logging level use sc.setLogLevel(newLevel). For SparkR, use setLogLevel(newLevel).\n",
      "23/10/24 15:26:41 WARN NativeCodeLoader: Unable to load native-hadoop library for your platform... using builtin-java classes where applicable\n"
     ]
    }
   ],
   "source": [
    "spark = SparkSession.builder\\\n",
    "                    .appName(\"Atividade Data Engineering - Multiplan\")\\\n",
    "                    .getOrCreate()"
   ]
  },
  {
   "cell_type": "code",
   "execution_count": 9,
   "metadata": {},
   "outputs": [
    {
     "data": {
      "text/html": [
       "\n",
       "            <div>\n",
       "                <p><b>SparkSession - in-memory</b></p>\n",
       "                \n",
       "        <div>\n",
       "            <p><b>SparkContext</b></p>\n",
       "\n",
       "            <p><a href=\"http://172.23.17.233:4040\">Spark UI</a></p>\n",
       "\n",
       "            <dl>\n",
       "              <dt>Version</dt>\n",
       "                <dd><code>v3.5.0</code></dd>\n",
       "              <dt>Master</dt>\n",
       "                <dd><code>local[*]</code></dd>\n",
       "              <dt>AppName</dt>\n",
       "                <dd><code>Atividade Data Engineering - Multiplan</code></dd>\n",
       "            </dl>\n",
       "        </div>\n",
       "        \n",
       "            </div>\n",
       "        "
      ],
      "text/plain": [
       "<pyspark.sql.session.SparkSession at 0x7f2f0979ada0>"
      ]
     },
     "execution_count": 9,
     "metadata": {},
     "output_type": "execute_result"
    }
   ],
   "source": [
    "spark"
   ]
  },
  {
   "cell_type": "markdown",
   "metadata": {},
   "source": [
    "## Lendo o arquivo"
   ]
  },
  {
   "cell_type": "code",
   "execution_count": 10,
   "metadata": {},
   "outputs": [],
   "source": [
    "df = spark.read.text('../data/raw/test-access-001-1.log')"
   ]
  },
  {
   "cell_type": "code",
   "execution_count": 12,
   "metadata": {},
   "outputs": [
    {
     "name": "stdout",
     "output_type": "stream",
     "text": [
      "+--------------------------------------------------------------------------------------------------------------------------------------------------------------------------------------------------------------------------------------------------------------------------------------------------------------------------------------------------------------------------+\n",
      "|value                                                                                                                                                                                                                                                                                                                                                                     |\n",
      "+--------------------------------------------------------------------------------------------------------------------------------------------------------------------------------------------------------------------------------------------------------------------------------------------------------------------------------------------------------------------------+\n",
      "|192.141.19.154 - - [12/Jan/2020 02:57:26 +0200] \"GET /apache_pb.gif HTTP/1.1\" 200 79262 \"http://localhost/manual/\" \"Mozilla/5.0 (Windows NT 10.0; WOW64) AppleWebKit/537.36 (KHTML, like Gecko) Chrome/56.0.2924.87 Safari/537.36 OPR/43.0.2442.991\"                                                                                                                      |\n",
      "|192.220.104.143 - - [12/Jan/2020 02:57:27 +0200] \"GET /svn/filedetails.php?repname=Devel&path=/rpg/devel/game.pl&rev=0&sc=1 HTTP/1.1\" 200 52105 \"http://localhost/~jan/WebSVN/listing.php?repname=Private&path=/&\" \"Mozilla/5.0 (iPhone; CPU iPhone OS 12_2 like Mac OS X) AppleWebKit/605.1.15 (KHTML, like Gecko) Version/12.1 Mobile/15E148 Safari/604.1\"              |\n",
      "|192.231.74.58 - - [12/Jan/2020 02:57:28 +0200] \"GET /manual/images/left.gif HTTP/1.1\" 200 83321 \"http://localhost/cgi-bin/trac.cgi\" \"Mozilla/5.0 (Windows NT 10.0; Win64; x64) AppleWebKit/537.36 (KHTML, like Gecko) Chrome/66.0.3359.170 Safari/537.36 OPR/53.0.2907.99\"                                                                                                |\n",
      "|192.39.217.91 - - [12/Jan/2020 02:57:29 +0200] \"GET /~jan/WebSVN/filedetails.php?repname=Private&path=/Coding_Rules/Perl+Coding+Rules.pod&rev=0&sc=0 HTTP/1.0\" 200 78408 \"http://localhost/cgi-bin/trac.cgi\" \"Mozilla/5.0 (Windows NT 10.0; Win64; x64) AppleWebKit/537.36 (KHTML, like Gecko) Chrome/74.0.3729.169 Safari/537.36\"                                        |\n",
      "|192.110.162.71 - - [12/Jan/2020 02:57:30 +0200] \"GET /manual/images/favicon.ico HTTP/1.1\" 200 106617 \"http://saturn.solar_system/cgi-bin/trac.cgi\" \"Mozilla/5.0 (iPhone; CPU iPhone OS 13_3_1 like Mac OS X) AppleWebKit/605.1.15 (KHTML, like Gecko) Version/13.0.5 Mobile/15E148 Safari/604.1\"                                                                          |\n",
      "|192.164.66.204 - - [12/Jan/2020 02:57:31 +0200] \"GET /default.css HTTP/1.1\" 200 141214 \"http://localhost/svnview?repos=devel&rev=85&root=SVNview/tmpl&show=1\" \"Mozilla/5.0 (Windows NT 6.1; WOW64) AppleWebKit/537.1 (KHTML, like Gecko) Chrome/21.0.1180.83 Safari/537.1\"                                                                                                |\n",
      "|192.53.241.153 - - [12/Jan/2020 02:57:32 +0200] \"GET /svnview?repos=devel&rev=85&root=SVNview/tmpl/contents.tmpl HTTP/1.1\" 200 139875 \"http://localhost/svnview\" \"Mozilla/5.0 (Windows NT 6.1; Win64; x64; rv:47.0) Gecko/20100101 Firefox/47.3\"                                                                                                                          |\n",
      "|192.206.221.122 - - [12/Jan/2020 03:19:32 +0200] \"GET /trac/topbar_active.png HTTP/1.1\" 500 79 \"http://localhost/cgi-bin/trac.cgi\" \"Mozilla/5.0 (X11; Linux x86_64) AppleWebKit/537.36 (KHTML, like Gecko) HeadlessChrome/79.0.3945.88 Safari/537.36\"                                                                                                                     |\n",
      "|192.179.140.112 - - [12/Jan/2020 03:19:33 +0200] \"GET /manual/images/left.gif HTTP/1.1\" 200 108386 \"http://localhost/cgi-bin/trac.cgi\" \"Mozilla/5.0 (iPhone; CPU iPhone OS 11_3_1 like Mac OS X) AppleWebKit/603.1.30 (KHTML, like Gecko) Version/10.0 Mobile/14E304 Safari/602.1\"                                                                                        |\n",
      "|192.81.11.35 - - [12/Jan/2020 03:19:34 +0200] \"GET /~jan/WebSVN/log.php?repname=Private&path=/RFC/RFC_0004.pod&rev=0&sc=0&isdir=0 HTTP/1.0\" 200 128417 \"http://localhost/cgi-bin/trac.cgi\" \"Mozilla/5.0 (X11; Linux x86_64) AppleWebKit/534.24 (KHTML, like Gecko) Chrome/11.0.696.3 Safari/534.24\"                                                                       |\n",
      "|192.104.46.150 - - [12/Jan/2020 03:19:35 +0200] \"GET /manual/images/favicon.ico HTTP/1.1\" 200 86847 \"http://localhost/svnview?repos=devel&rev=85&root=SVNview/tmpl/header.tmpl\" \"Mozilla/5.0 (Windows NT 6.1; Win64; x64; rv:47.0) Gecko/20100101 Firefox/47.3\"                                                                                                           |\n",
      "|192.14.87.144 - - [12/Jan/2020 03:19:36 +0200] \"GET /manual/style/css/manual-print.css HTTP/1.1\" 200 52058 \"http://localhost/svnview?repos=devel&rev=85&root=SVNview/tmpl/header.tmpl\" \"Mozilla/5.0 (iPhone; CPU iPhone OS 12_1_4 like Mac OS X) AppleWebKit/605.1.15 (KHTML, like Gecko) Mobile/16D57\"                                                                   |\n",
      "|192.26.176.185 - - [12/Jan/2020 03:19:37 +0200] \"GET /trac/trac_banner.png HTTP/1.1\" 200 27727 \"http://localhost/~jan/WebSVN/listing.php?repname=Public&path=/payment_server/vgts_mod/vgts_vt_cc/stable/modules/&rev=0&sc=1\" \"Mozilla/5.0 (iPhone; CPU iPhone OS 13_6_1 like Mac OS X) AppleWebKit/605.1.15 (KHTML, like Gecko) Version/13.1.2 Mobile/15E148 Safari/604.1\"|\n",
      "|192.13.167.22 - - [12/Jan/2020 03:41:37 +0200] \"GET /trac/topbar_gradient.png HTTP/1.1\" 200 134740 \"http://localhost/\" \"Mozilla/5.0 (X11; Linux x86_64) AppleWebKit/534.24 (KHTML, like Gecko) Chrome/11.0.696.3 Safari/534.24\"                                                                                                                                           |\n",
      "|192.85.168.197 - - [12/Jan/2020 03:41:38 +0200] \"GET /default.css HTTP/1.1\" 404 79 \"http://localhost/svnview?repos=devel&rev=85&root=SVNview/tmpl/header.tmpl\" \"Mozilla/5.0 (X11; U; Linux i686; en-US; rv:1.7) Gecko/20040620 Galeon/1.3.15\"                                                                                                                             |\n",
      "|192.135.198.145 - - [12/Jan/2020 03:41:39 +0200] \"GET /manual/images/down.gif HTTP/1.1\" 200 47747 \"http://localhost/~jan/WebSVN/log.php?repname=Private&path=/RFC/RFC_0004.pod&rev=0&sc=0&isdir=0\" \"Mozilla/5.0 (Windows NT 10.0; Win64; x64) AppleWebKit/537.36 (KHTML, like Gecko) Chrome/74.0.3729.157 Safari/537.36\"                                                  |\n",
      "|192.141.20.225 - - [12/Jan/2020 03:41:40 +0200] \"GET /cgi-bin/trac.cgi HTTP/1.1\" 200 249818 \"http://localhost/manual/\" \"Mozilla/5.0 (X11; Linux x86_64) AppleWebKit/534.24 (KHTML, like Gecko) Chrome/11.0.696.3 Safari/534.24\"                                                                                                                                           |\n",
      "|192.124.172.202 - - [12/Jan/2020 03:41:41 +0200] \"GET /svnview?repos=devel&rev=85&root=SVNview/tmpl/header.tmpl HTTP/1.1\" 200 87152 \"http://localhost/svnview?repos=devel&rev=latest&root=/SVNview\" \"Mozilla/5.0 (Windows NT 10.0; Win64; x64) AppleWebKit/537.36 (KHTML, like Gecko) Chrome/66.0.3359.170 Safari/537.36 OPR/53.0.2907.99\"                                |\n",
      "|192.118.92.49 - - [12/Jan/2020 03:41:42 +0200] \"GET /manual/images/favicon.ico HTTP/1.1\" 200 190566 \"http://localhost/cgi-bin/trac.cgi\" \"Mozilla/5.0 (Windows NT 6.1; Win64; x64; rv:47.0) Gecko/20100101 Firefox/47.3\"                                                                                                                                                   |\n",
      "|192.194.1.186 - - [12/Jan/2020 03:41:43 +0200] \"GET / HTTP/1.0\" 200 31852 \"http://localhost/svn/listing.php?repname=Devel&path=/rpg/&rev=0&sc=1\" \"Mozilla/5.0 (X11; Linux x86_64) AppleWebKit/537.36 (KHTML, like Gecko) HeadlessChrome/79.0.3945.88 Safari/537.36\"                                                                                                       |\n",
      "+--------------------------------------------------------------------------------------------------------------------------------------------------------------------------------------------------------------------------------------------------------------------------------------------------------------------------------------------------------------------------+\n",
      "only showing top 20 rows\n",
      "\n"
     ]
    }
   ],
   "source": [
    "df.show(truncate=False)"
   ]
  },
  {
   "cell_type": "code",
   "execution_count": null,
   "metadata": {},
   "outputs": [],
   "source": []
  }
 ],
 "metadata": {
  "kernelspec": {
   "display_name": ".venv",
   "language": "python",
   "name": "python3"
  },
  "language_info": {
   "codemirror_mode": {
    "name": "ipython",
    "version": 3
   },
   "file_extension": ".py",
   "mimetype": "text/x-python",
   "name": "python",
   "nbconvert_exporter": "python",
   "pygments_lexer": "ipython3",
   "version": "3.10.12"
  }
 },
 "nbformat": 4,
 "nbformat_minor": 2
}
